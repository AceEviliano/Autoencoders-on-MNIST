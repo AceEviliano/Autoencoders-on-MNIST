{
 "cells": [
  {
   "cell_type": "code",
   "execution_count": 1,
   "metadata": {},
   "outputs": [],
   "source": [
    "import numpy as np\n",
    "import pandas as pd\n",
    "import matplotlib.pyplot as plt\n",
    "import skimage.io as skio\n",
    "import skimage.transform as sktr\n",
    "import torch as to\n",
    "import torchvision as tovi\n",
    "import torch.nn as nn\n",
    "import torch.nn.functional as F\n",
    "from torch.utils.data import DataLoader, Dataset"
   ]
  },
  {
   "cell_type": "code",
   "execution_count": 2,
   "metadata": {},
   "outputs": [],
   "source": [
    "class Data(Dataset) :\n",
    "    \n",
    "    def __init__(self):\n",
    "        \n",
    "        super(Data,self).__init__()\n",
    "        \n",
    "        self.data = pd.read_csv(\"../../data/trainMNIST.csv\").values\n",
    "        self.label = pd.read_csv(\"../../data/trainMNISTlabels.csv\").values\n",
    "    \n",
    "    \n",
    "    def __getitem__(self, inx) :\n",
    "        \n",
    "        sample = self.data[inx]\n",
    "        label = self.label[inx]\n",
    "        \n",
    "        img = np.reshape(sample,(1,28,28))\n",
    "        \n",
    "        img = to.tensor(img, dtype=to.float32, device=\"cuda\")\n",
    "        label = to.tensor(label, dtype=to.float32, device=\"cuda\")\n",
    "        \n",
    "        return img, label\n",
    "        \n",
    "    \n",
    "    def __len__(self):\n",
    "        \n",
    "        return len(self.data)"
   ]
  },
  {
   "cell_type": "markdown",
   "metadata": {},
   "source": [
    "architecture :\n",
    "\n",
    "$$1\\times28\\times28 \\xrightarrow{\\text{conv:} k_5,s_1}  16 \\times 24 \\times24 \\xrightarrow{\\text{maxp:} k_2,s_2} 16\\times12\\times12 \\xrightarrow{\\text{conv:}k_3,s_1} 32\\times10\\times10 \\xrightarrow{\\text{maxp:}k_2,s_2} 32\\times5\\times5$$"
   ]
  },
  {
   "cell_type": "code",
   "execution_count": 3,
   "metadata": {},
   "outputs": [],
   "source": [
    "class Model(nn.Module):\n",
    "    \n",
    "    def __init__(self):\n",
    "        \n",
    "        super(Model,self).__init__()\n",
    "            \n",
    "        self.conv1 = nn.Conv2d(1, 16, kernel_size=5, stride=1)  \n",
    "        self.conv2 = nn.Conv2d(16, 32, kernel_size=3, stride=1)\n",
    "        self.pool = nn.MaxPool2d(kernel_size=2, stride=2,return_indices=True)\n",
    "        \n",
    "        \n",
    "        \n",
    "    def encoder(self,inp):\n",
    "        \n",
    "        out = self.conv1(inp)\n",
    "        out = F.relu(out)\n",
    "        out, self.inx1 = self.pool(out)\n",
    "        \n",
    "        \n",
    "        out = self.conv2(out)\n",
    "        out = F.relu(out)\n",
    "        out, self.inx2 = self.pool(out)           \n",
    "        \n",
    "        \n",
    "        return out\n",
    "        \n",
    "               \n",
    "    def decoder(self,inp):\n",
    "        \n",
    "        self.copy1 = to.tensor(self.conv1.weight, requires_grad=False)\n",
    "        self.copy2 = to.tensor(self.conv2.weight, requires_grad=False)\n",
    "        \n",
    "        out = F.max_unpool2d(inp, self.inx2, kernel_size=2, stride=2)\n",
    "        out = F.conv_transpose2d(out, self.copy2 )\n",
    "        out = F.relu(out)\n",
    "                \n",
    "        out = F.max_unpool2d(out, self.inx1, kernel_size=2, stride=2)\n",
    "        out = F.conv_transpose2d(out, self.copy1 )\n",
    "        \n",
    "        out = F.tanh(out)\n",
    "        \n",
    "        return out\n",
    "        \n",
    "        \n",
    "    \n",
    "    def forward(self,inp):\n",
    "        \n",
    "        out = self.encoder(inp)\n",
    "        out = self.decoder(out)\n",
    "        \n",
    "        return out"
   ]
  },
  {
   "cell_type": "code",
   "execution_count": 4,
   "metadata": {},
   "outputs": [],
   "source": [
    "model = Model().cuda()"
   ]
  },
  {
   "cell_type": "code",
   "execution_count": 5,
   "metadata": {},
   "outputs": [],
   "source": [
    "train_data = Data()\n",
    "data_loader = DataLoader(train_data,batch_size=32, shuffle=True)"
   ]
  },
  {
   "cell_type": "code",
   "execution_count": 6,
   "metadata": {},
   "outputs": [
    {
     "name": "stdout",
     "output_type": "stream",
     "text": [
      "label : tensor([4.], device='cuda:0')\n"
     ]
    },
    {
     "data": {
      "text/plain": [
       "<matplotlib.image.AxesImage at 0x7f7e316dbdd8>"
      ]
     },
     "execution_count": 6,
     "metadata": {},
     "output_type": "execute_result"
    },
    {
     "data": {
      "image/png": "[encoded data removed]",
      "text/plain": [
       "<Figure size 432x288 with 1 Axes>"
      ]
     },
     "metadata": {},
     "output_type": "display_data"
    }
   ],
   "source": [
    "sample, lbl = train_data[1]\n",
    "\n",
    "print(\"label :\", lbl)\n",
    "\n",
    "img = sample.detach().cpu().numpy()\n",
    "plt.imshow(img[0])"
   ]
  },
  {
   "cell_type": "code",
   "execution_count": 7,
   "metadata": {},
   "outputs": [],
   "source": [
    "epoch = 100\n",
    "lr = 0.001\n",
    "Criterion = nn.MSELoss()\n",
    "Optimizer = to.optim.SGD(model.parameters(), lr=lr)"
   ]
  },
  {
   "cell_type": "code",
   "execution_count": 8,
   "metadata": {},
   "outputs": [],
   "source": [
    "counter = []\n",
    "loss_history = [] \n",
    "iteration_number= 0"
   ]
  },
  {
   "cell_type": "code",
   "execution_count": 9,
   "metadata": {},
   "outputs": [
    {
     "name": "stderr",
     "output_type": "stream",
     "text": [
      "/usr/local/anaconda35/lib/python3.6/site-packages/torch/nn/functional.py:995: UserWarning: nn.functional.tanh is deprecated. Use torch.tanh instead.\n",
      "  warnings.warn(\"nn.functional.tanh is deprecated. Use torch.tanh instead.\")\n"
     ]
    },
    {
     "name": "stdout",
     "output_type": "stream",
     "text": [
      "Epoch number 0\n",
      "  Current loss 6673.47265625\n",
      "\n",
      "Epoch number 1\n",
      "  Current loss 7415.4140625\n",
      "\n",
      "Epoch number 2\n",
      "  Current loss 5929.67626953125\n",
      "\n",
      "Epoch number 3\n",
      "  Current loss 7189.005859375\n",
      "\n",
      "Epoch number 4\n",
      "  Current loss 6961.43505859375\n",
      "\n",
      "Epoch number 5\n",
      "  Current loss 7248.0185546875\n",
      "\n",
      "Epoch number 6\n",
      "  Current loss 7901.38232421875\n",
      "\n",
      "Epoch number 7\n",
      "  Current loss 7483.59912109375\n",
      "\n",
      "Epoch number 8\n",
      "  Current loss 7083.56396484375\n",
      "\n",
      "Epoch number 9\n",
      "  Current loss 6795.74658203125\n",
      "\n",
      "Epoch number 10\n",
      "  Current loss 7766.8134765625\n",
      "\n",
      "Epoch number 11\n",
      "  Current loss 7242.3701171875\n",
      "\n",
      "Epoch number 12\n",
      "  Current loss 8070.29248046875\n",
      "\n",
      "Epoch number 13\n",
      "  Current loss 8342.0478515625\n",
      "\n",
      "Epoch number 14\n",
      "  Current loss 7424.02392578125\n",
      "\n",
      "Epoch number 15\n",
      "  Current loss 8116.23828125\n",
      "\n",
      "Epoch number 16\n",
      "  Current loss 7612.55712890625\n",
      "\n",
      "Epoch number 17\n",
      "  Current loss 7069.20458984375\n",
      "\n",
      "Epoch number 18\n",
      "  Current loss 6257.6328125\n",
      "\n",
      "Epoch number 19\n",
      "  Current loss 7168.18115234375\n",
      "\n",
      "Epoch number 20\n",
      "  Current loss 7575.76953125\n",
      "\n",
      "Epoch number 21\n",
      "  Current loss 7159.83740234375\n",
      "\n",
      "Epoch number 22\n",
      "  Current loss 6863.4599609375\n",
      "\n",
      "Epoch number 23\n",
      "  Current loss 6561.6005859375\n",
      "\n",
      "Epoch number 24\n",
      "  Current loss 6988.77099609375\n",
      "\n",
      "Epoch number 25\n",
      "  Current loss 7253.61669921875\n",
      "\n",
      "Epoch number 26\n",
      "  Current loss 6594.93505859375\n",
      "\n",
      "Epoch number 27\n",
      "  Current loss 7410.44921875\n",
      "\n",
      "Epoch number 28\n",
      "  Current loss 7716.32666015625\n",
      "\n",
      "Epoch number 29\n",
      "  Current loss 7361.58740234375\n",
      "\n",
      "Epoch number 30\n",
      "  Current loss 7142.8486328125\n",
      "\n",
      "Epoch number 31\n",
      "  Current loss 7123.6943359375\n",
      "\n",
      "Epoch number 32\n",
      "  Current loss 7736.1962890625\n",
      "\n",
      "Epoch number 33\n",
      "  Current loss 7644.25\n",
      "\n",
      "Epoch number 34\n",
      "  Current loss 7349.85888671875\n",
      "\n",
      "Epoch number 35\n",
      "  Current loss 6474.20556640625\n",
      "\n",
      "Epoch number 36\n",
      "  Current loss 7731.43896484375\n",
      "\n",
      "Epoch number 37\n",
      "  Current loss 6950.9208984375\n",
      "\n",
      "Epoch number 38\n",
      "  Current loss 7214.8125\n",
      "\n",
      "Epoch number 39\n",
      "  Current loss 7751.9873046875\n",
      "\n",
      "Epoch number 40\n",
      "  Current loss 7031.52978515625\n",
      "\n",
      "Epoch number 41\n",
      "  Current loss 7724.24072265625\n",
      "\n",
      "Epoch number 42\n",
      "  Current loss 6680.0947265625\n",
      "\n",
      "Epoch number 43\n",
      "  Current loss 7452.826171875\n",
      "\n",
      "Epoch number 44\n",
      "  Current loss 7936.76025390625\n",
      "\n",
      "Epoch number 45\n",
      "  Current loss 6357.93896484375\n",
      "\n",
      "Epoch number 46\n",
      "  Current loss 7556.5556640625\n",
      "\n",
      "Epoch number 47\n",
      "  Current loss 6487.5771484375\n",
      "\n",
      "Epoch number 48\n",
      "  Current loss 7211.6328125\n",
      "\n",
      "Epoch number 49\n",
      "  Current loss 7407.61083984375\n",
      "\n",
      "Epoch number 50\n",
      "  Current loss 6898.42529296875\n",
      "\n",
      "Epoch number 51\n",
      "  Current loss 7061.30078125\n",
      "\n",
      "Epoch number 52\n",
      "  Current loss 7301.361328125\n",
      "\n",
      "Epoch number 53\n",
      "  Current loss 6710.18310546875\n",
      "\n",
      "Epoch number 54\n",
      "  Current loss 7568.83740234375\n",
      "\n",
      "Epoch number 55\n",
      "  Current loss 6524.83740234375\n",
      "\n",
      "Epoch number 56\n",
      "  Current loss 6605.66943359375\n",
      "\n",
      "Epoch number 57\n",
      "  Current loss 7772.60107421875\n",
      "\n",
      "Epoch number 58\n",
      "  Current loss 7113.85986328125\n",
      "\n",
      "Epoch number 59\n",
      "  Current loss 7946.65087890625\n",
      "\n",
      "Epoch number 60\n",
      "  Current loss 6587.65380859375\n",
      "\n",
      "Epoch number 61\n",
      "  Current loss 7170.73095703125\n",
      "\n",
      "Epoch number 62\n",
      "  Current loss 6556.78515625\n",
      "\n",
      "Epoch number 63\n",
      "  Current loss 7525.22998046875\n",
      "\n",
      "Epoch number 64\n",
      "  Current loss 7469.134765625\n",
      "\n",
      "Epoch number 65\n",
      "  Current loss 6583.14501953125\n",
      "\n",
      "Epoch number 66\n",
      "  Current loss 8049.29296875\n",
      "\n",
      "Epoch number 67\n",
      "  Current loss 6600.4228515625\n",
      "\n",
      "Epoch number 68\n",
      "  Current loss 6997.58154296875\n",
      "\n",
      "Epoch number 69\n",
      "  Current loss 7559.38818359375\n",
      "\n",
      "Epoch number 70\n",
      "  Current loss 7660.97119140625\n",
      "\n",
      "Epoch number 71\n",
      "  Current loss 7114.2734375\n",
      "\n",
      "Epoch number 72\n",
      "  Current loss 7233.021484375\n",
      "\n",
      "Epoch number 73\n",
      "  Current loss 6820.40625\n",
      "\n",
      "Epoch number 74\n",
      "  Current loss 6895.93896484375\n",
      "\n",
      "Epoch number 75\n",
      "  Current loss 7305.3369140625\n",
      "\n",
      "Epoch number 76\n",
      "  Current loss 7152.66162109375\n",
      "\n",
      "Epoch number 77\n",
      "  Current loss 6194.5126953125\n",
      "\n",
      "Epoch number 78\n",
      "  Current loss 6821.53662109375\n",
      "\n",
      "Epoch number 79\n",
      "  Current loss 6410.31884765625\n",
      "\n",
      "Epoch number 80\n",
      "  Current loss 6851.0947265625\n",
      "\n",
      "Epoch number 81\n",
      "  Current loss 7138.2841796875\n",
      "\n",
      "Epoch number 82\n",
      "  Current loss 6221.49951171875\n",
      "\n",
      "Epoch number 83\n",
      "  Current loss 6281.79248046875\n",
      "\n",
      "Epoch number 84\n",
      "  Current loss 6185.6708984375\n",
      "\n",
      "Epoch number 85\n",
      "  Current loss 7296.0830078125\n",
      "\n",
      "Epoch number 86\n",
      "  Current loss 7304.51953125\n",
      "\n",
      "Epoch number 87\n",
      "  Current loss 7289.8642578125\n",
      "\n",
      "Epoch number 88\n",
      "  Current loss 7939.99853515625\n",
      "\n",
      "Epoch number 89\n",
      "  Current loss 7053.81689453125\n",
      "\n",
      "Epoch number 90\n",
      "  Current loss 7373.7978515625\n",
      "\n",
      "Epoch number 91\n",
      "  Current loss 7199.44287109375\n",
      "\n",
      "Epoch number 92\n",
      "  Current loss 6943.52587890625\n",
      "\n",
      "Epoch number 93\n",
      "  Current loss 6996.17138671875\n",
      "\n",
      "Epoch number 94\n",
      "  Current loss 7527.333984375\n",
      "\n",
      "Epoch number 95\n",
      "  Current loss 6520.52685546875\n",
      "\n",
      "Epoch number 96\n",
      "  Current loss 7261.287109375\n",
      "\n",
      "Epoch number 97\n",
      "  Current loss 6740.3623046875\n",
      "\n",
      "Epoch number 98\n",
      "  Current loss 6838.61865234375\n",
      "\n",
      "Epoch number 99\n",
      "  Current loss 6558.1259765625\n",
      "\n"
     ]
    }
   ],
   "source": [
    "for i in range(epoch):\n",
    "    \n",
    "    for data in data_loader :\n",
    "        \n",
    "        img, lbl = data\n",
    "        \n",
    "        out = model(img)\n",
    "        loss = Criterion(out,img)\n",
    "        \n",
    "        \n",
    "        Optimizer.zero_grad()\n",
    "        loss.backward()\n",
    "        Optimizer.step()\n",
    "        \n",
    "    print(\"Epoch number {}\\n  Current loss {}\\n\".format(i,loss.item()))\n",
    "    counter.append(i)\n",
    "    loss_history.append(loss.item())\n",
    "        "
   ]
  },
  {
   "cell_type": "code",
   "execution_count": 10,
   "metadata": {},
   "outputs": [
    {
     "data": {
      "text/plain": [
       "[<matplotlib.lines.Line2D at 0x7f7e31184ba8>]"
      ]
     },
     "execution_count": 10,
     "metadata": {},
     "output_type": "execute_result"
    },
    {
     "data": {
      "image/png": "[encoded data removed]",
      "text/plain": [
       "<Figure size 432x288 with 1 Axes>"
      ]
     },
     "metadata": {},
     "output_type": "display_data"
    }
   ],
   "source": [
    "plt.plot(counter,loss_history)"
   ]
  },
  {
   "cell_type": "code",
   "execution_count": 11,
   "metadata": {},
   "outputs": [],
   "source": [
    "to.save(model.state_dict(),\"./autoencoder\")"
   ]
  },
  {
   "cell_type": "code",
   "execution_count": 12,
   "metadata": {},
   "outputs": [
    {
     "data": {
      "text/plain": [
       "Model(\n",
       "  (conv1): Conv2d(1, 16, kernel_size=(5, 5), stride=(1, 1))\n",
       "  (conv2): Conv2d(16, 32, kernel_size=(3, 3), stride=(1, 1))\n",
       "  (pool): MaxPool2d(kernel_size=2, stride=2, padding=0, dilation=1, ceil_mode=False)\n",
       ")"
      ]
     },
     "execution_count": 12,
     "metadata": {},
     "output_type": "execute_result"
    }
   ],
   "source": [
    "model.eval()"
   ]
  },
  {
   "cell_type": "code",
   "execution_count": 18,
   "metadata": {},
   "outputs": [
    {
     "name": "stdout",
     "output_type": "stream",
     "text": [
      "label : tensor([6.], device='cuda:0')\n"
     ]
    },
    {
     "name": "stderr",
     "output_type": "stream",
     "text": [
      "/usr/local/anaconda35/lib/python3.6/site-packages/torch/nn/functional.py:995: UserWarning: nn.functional.tanh is deprecated. Use torch.tanh instead.\n",
      "  warnings.warn(\"nn.functional.tanh is deprecated. Use torch.tanh instead.\")\n"
     ]
    },
    {
     "data": {
      "text/plain": [
       "<matplotlib.image.AxesImage at 0x7f7e30f41908>"
      ]
     },
     "execution_count": 18,
     "metadata": {},
     "output_type": "execute_result"
    },
    {
     "data": {
      "image/png": "[encoded data removed]",
      "text/plain": [
       "<Figure size 432x288 with 1 Axes>"
      ]
     },
     "metadata": {},
     "output_type": "display_data"
    }
   ],
   "source": [
    "sample, lbl = train_data[12]\n",
    "\n",
    "print(\"label :\", lbl)\n",
    "\n",
    "with to.no_grad() :\n",
    "    out = model(sample.view(1,1,28,28))\n",
    "\n",
    "img = out.detach().cpu().numpy()\n",
    "plt.imshow(img[0][0])"
   ]
  },
  {
   "cell_type": "code",
   "execution_count": null,
   "metadata": {},
   "outputs": [],
   "source": []
  }
 ],
 "metadata": {
  "kernelspec": {
   "display_name": "Python 3",
   "language": "python",
   "name": "python3"
  },
  "language_info": {
   "codemirror_mode": {
    "name": "ipython",
    "version": 3
   },
   "file_extension": ".py",
   "mimetype": "text/x-python",
   "name": "python",
   "nbconvert_exporter": "python",
   "pygments_lexer": "ipython3",
   "version": "3.6.4"
  }
 },
 "nbformat": 4,
 "nbformat_minor": 2
}
